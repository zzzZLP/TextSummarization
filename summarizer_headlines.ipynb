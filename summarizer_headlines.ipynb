{
 "cells": [
  {
   "cell_type": "markdown",
   "metadata": {
    "colab_type": "text",
    "id": "6AnFGD-dMRwr"
   },
   "source": [
    "# Text Summarization of news articels\n",
    "In this notebook I will write summaries with the help of my Seq2Seq model in Summarizer.py.\n"
   ]
  },
  {
   "cell_type": "code",
   "execution_count": 3,
   "metadata": {
    "colab": {
     "autoexec": {
      "startup": false,
      "wait_interval": 0
     }
    },
    "colab_type": "code",
    "id": "QjDjpDNUMRws"
   },
   "outputs": [],
   "source": [
    "import os\n",
    "\n",
    "import pandas as pd\n",
    "import numpy as np\n",
    "import tensorflow as tf\n",
    "import tensorflow_hub as hub\n",
    "from collections import Counter\n",
    "\n",
    "import Summarizer\n",
    "import summarizer_data_utils\n",
    "import summarizer_model_utils\n"
   ]
  },
  {
   "cell_type": "code",
   "execution_count": 2,
   "metadata": {
    "colab": {
     "autoexec": {
      "startup": false,
      "wait_interval": 0
     },
     "base_uri": "https://localhost:8080/",
     "height": 34
    },
    "colab_type": "code",
    "executionInfo": {
     "elapsed": 660,
     "status": "ok",
     "timestamp": 1526289170787,
     "user": {
      "displayName": "Thomas Schmied",
      "photoUrl": "https://lh3.googleusercontent.com/a/default-user=s128",
      "userId": "102636220151368904258"
     },
     "user_tz": -120
    },
    "id": "iRv2aKC5MRwx",
    "outputId": "4a6ef260-8651-42c7-fa02-beed4c695d24"
   },
   "outputs": [
    {
     "name": "stdout",
     "output_type": "stream",
     "text": [
      "1.8.0\n"
     ]
    }
   ],
   "source": [
    "print(tf.__version__)"
   ]
  },
  {
   "cell_type": "markdown",
   "metadata": {
    "colab_type": "text",
    "id": "ufhkCgEbMRw1"
   },
   "source": [
    "## The data\n",
    "The data we will use here is the 'all-the-news'-dataset from Kaggle. It contains about 200000 news articles and the headlines of those articles. The headlines will serve as our summaries in this case.\n",
    "The articles are from several big news corporations.\n",
    "\n",
    "https://www.kaggle.com/snapcrack/all-the-news\n",
    "\n"
   ]
  },
  {
   "cell_type": "markdown",
   "metadata": {
    "colab_type": "text",
    "id": "15PDBfQDMRw2"
   },
   "source": [
    "### Reading and exploring"
   ]
  },
  {
   "cell_type": "code",
   "execution_count": 4,
   "metadata": {
    "colab": {
     "autoexec": {
      "startup": false,
      "wait_interval": 0
     }
    },
    "colab_type": "code",
    "id": "GsIA4RryMRw2"
   },
   "outputs": [],
   "source": [
    "# the dataset consists of 3 .csv files. we will concatenate them.\n",
    "data = pd.read_csv('./articles1.csv',\n",
    "                   encoding='utf-8')\n",
    "data1 = pd.read_csv('./articles2.csv',\n",
    "                    encoding='utf-8')\n",
    "data2 = pd.read_csv('./articles3.csv',\n",
    "                    encoding='utf-8')\n"
   ]
  },
  {
   "cell_type": "code",
   "execution_count": 6,
   "metadata": {
    "colab": {
     "autoexec": {
      "startup": false,
      "wait_interval": 0
     }
    },
    "colab_type": "code",
    "id": "_M-JDOP7MRw6"
   },
   "outputs": [
    {
     "data": {
      "text/plain": [
       "(235140, 10)"
      ]
     },
     "execution_count": 6,
     "metadata": {},
     "output_type": "execute_result"
    }
   ],
   "source": [
    "data = pd.concat([data, data1, data2])\n",
    "data.shape"
   ]
  },
  {
   "cell_type": "code",
   "execution_count": 7,
   "metadata": {
    "colab": {
     "autoexec": {
      "startup": false,
      "wait_interval": 0
     },
     "base_uri": "https://localhost:8080/",
     "height": 306
    },
    "colab_type": "code",
    "executionInfo": {
     "elapsed": 494,
     "status": "ok",
     "timestamp": 1526289181068,
     "user": {
      "displayName": "Thomas Schmied",
      "photoUrl": "https://lh3.googleusercontent.com/a/default-user=s128",
      "userId": "102636220151368904258"
     },
     "user_tz": -120
    },
    "id": "K0-E37k7MRw8",
    "outputId": "5fdd7e3a-38fc-4370-ac79-8638dc8ca328"
   },
   "outputs": [
    {
     "data": {
      "text/html": [
       "<div>\n",
       "<style>\n",
       "    .dataframe thead tr:only-child th {\n",
       "        text-align: right;\n",
       "    }\n",
       "\n",
       "    .dataframe thead th {\n",
       "        text-align: left;\n",
       "    }\n",
       "\n",
       "    .dataframe tbody tr th {\n",
       "        vertical-align: top;\n",
       "    }\n",
       "</style>\n",
       "<table border=\"1\" class=\"dataframe\">\n",
       "  <thead>\n",
       "    <tr style=\"text-align: right;\">\n",
       "      <th></th>\n",
       "      <th>Unnamed: 0</th>\n",
       "      <th>id</th>\n",
       "      <th>title</th>\n",
       "      <th>publication</th>\n",
       "      <th>author</th>\n",
       "      <th>date</th>\n",
       "      <th>year</th>\n",
       "      <th>month</th>\n",
       "      <th>url</th>\n",
       "      <th>content</th>\n",
       "    </tr>\n",
       "  </thead>\n",
       "  <tbody>\n",
       "    <tr>\n",
       "      <th>0</th>\n",
       "      <td>0</td>\n",
       "      <td>17283</td>\n",
       "      <td>House Republicans Fret About Winning Their Hea...</td>\n",
       "      <td>New York Times</td>\n",
       "      <td>Carl Hulse</td>\n",
       "      <td>2016-12-31</td>\n",
       "      <td>2016.0</td>\n",
       "      <td>12.0</td>\n",
       "      <td>NaN</td>\n",
       "      <td>WASHINGTON  —   Congressional Republicans have...</td>\n",
       "    </tr>\n",
       "    <tr>\n",
       "      <th>1</th>\n",
       "      <td>1</td>\n",
       "      <td>17284</td>\n",
       "      <td>Rift Between Officers and Residents as Killing...</td>\n",
       "      <td>New York Times</td>\n",
       "      <td>Benjamin Mueller and Al Baker</td>\n",
       "      <td>2017-06-19</td>\n",
       "      <td>2017.0</td>\n",
       "      <td>6.0</td>\n",
       "      <td>NaN</td>\n",
       "      <td>After the bullet shells get counted, the blood...</td>\n",
       "    </tr>\n",
       "    <tr>\n",
       "      <th>2</th>\n",
       "      <td>2</td>\n",
       "      <td>17285</td>\n",
       "      <td>Tyrus Wong, ‘Bambi’ Artist Thwarted by Racial ...</td>\n",
       "      <td>New York Times</td>\n",
       "      <td>Margalit Fox</td>\n",
       "      <td>2017-01-06</td>\n",
       "      <td>2017.0</td>\n",
       "      <td>1.0</td>\n",
       "      <td>NaN</td>\n",
       "      <td>When Walt Disney’s “Bambi” opened in 1942, cri...</td>\n",
       "    </tr>\n",
       "    <tr>\n",
       "      <th>3</th>\n",
       "      <td>3</td>\n",
       "      <td>17286</td>\n",
       "      <td>Among Deaths in 2016, a Heavy Toll in Pop Musi...</td>\n",
       "      <td>New York Times</td>\n",
       "      <td>William McDonald</td>\n",
       "      <td>2017-04-10</td>\n",
       "      <td>2017.0</td>\n",
       "      <td>4.0</td>\n",
       "      <td>NaN</td>\n",
       "      <td>Death may be the great equalizer, but it isn’t...</td>\n",
       "    </tr>\n",
       "    <tr>\n",
       "      <th>4</th>\n",
       "      <td>4</td>\n",
       "      <td>17287</td>\n",
       "      <td>Kim Jong-un Says North Korea Is Preparing to T...</td>\n",
       "      <td>New York Times</td>\n",
       "      <td>Choe Sang-Hun</td>\n",
       "      <td>2017-01-02</td>\n",
       "      <td>2017.0</td>\n",
       "      <td>1.0</td>\n",
       "      <td>NaN</td>\n",
       "      <td>SEOUL, South Korea  —   North Korea’s leader, ...</td>\n",
       "    </tr>\n",
       "  </tbody>\n",
       "</table>\n",
       "</div>"
      ],
      "text/plain": [
       "   Unnamed: 0     id                                              title  \\\n",
       "0           0  17283  House Republicans Fret About Winning Their Hea...   \n",
       "1           1  17284  Rift Between Officers and Residents as Killing...   \n",
       "2           2  17285  Tyrus Wong, ‘Bambi’ Artist Thwarted by Racial ...   \n",
       "3           3  17286  Among Deaths in 2016, a Heavy Toll in Pop Musi...   \n",
       "4           4  17287  Kim Jong-un Says North Korea Is Preparing to T...   \n",
       "\n",
       "      publication                         author        date    year  month  \\\n",
       "0  New York Times                     Carl Hulse  2016-12-31  2016.0   12.0   \n",
       "1  New York Times  Benjamin Mueller and Al Baker  2017-06-19  2017.0    6.0   \n",
       "2  New York Times                   Margalit Fox  2017-01-06  2017.0    1.0   \n",
       "3  New York Times               William McDonald  2017-04-10  2017.0    4.0   \n",
       "4  New York Times                  Choe Sang-Hun  2017-01-02  2017.0    1.0   \n",
       "\n",
       "   url                                            content  \n",
       "0  NaN  WASHINGTON  —   Congressional Republicans have...  \n",
       "1  NaN  After the bullet shells get counted, the blood...  \n",
       "2  NaN  When Walt Disney’s “Bambi” opened in 1942, cri...  \n",
       "3  NaN  Death may be the great equalizer, but it isn’t...  \n",
       "4  NaN  SEOUL, South Korea  —   North Korea’s leader, ...  "
      ]
     },
     "execution_count": 7,
     "metadata": {},
     "output_type": "execute_result"
    }
   ],
   "source": [
    "# we are only going to use title and content.\n",
    "data.head()"
   ]
  },
  {
   "cell_type": "code",
   "execution_count": 8,
   "metadata": {
    "colab": {
     "autoexec": {
      "startup": false,
      "wait_interval": 0
     },
     "base_uri": "https://localhost:8080/",
     "height": 272
    },
    "colab_type": "code",
    "executionInfo": {
     "elapsed": 531,
     "status": "ok",
     "timestamp": 1526289182911,
     "user": {
      "displayName": "Thomas Schmied",
      "photoUrl": "https://lh3.googleusercontent.com/a/default-user=s128",
      "userId": "102636220151368904258"
     },
     "user_tz": -120
    },
    "id": "8Yk_zc-JMRxC",
    "outputId": "e3b65134-a880-40c1-ceeb-d94b0db5229c"
   },
   "outputs": [
    {
     "data": {
      "text/plain": [
       "Counter({'Atlantic': 14187,\n",
       "         'Breitbart': 23781,\n",
       "         'Business Insider': 6757,\n",
       "         'Buzzfeed News': 9708,\n",
       "         'CNN': 11488,\n",
       "         'Fox News': 8708,\n",
       "         'Guardian': 17362,\n",
       "         'NPR': 23984,\n",
       "         'National Review': 12406,\n",
       "         'New York Post': 34986,\n",
       "         'New York Times': 7803,\n",
       "         'Reuters': 21420,\n",
       "         'Talking Points Memo': 10428,\n",
       "         'Vox': 9894,\n",
       "         'Washington Post': 22228})"
      ]
     },
     "execution_count": 8,
     "metadata": {},
     "output_type": "execute_result"
    }
   ],
   "source": [
    "Counter(data.publication)"
   ]
  },
  {
   "cell_type": "code",
   "execution_count": 9,
   "metadata": {
    "colab": {
     "autoexec": {
      "startup": false,
      "wait_interval": 0
     }
    },
    "colab_type": "code",
    "id": "_JDp6NjFMRxP"
   },
   "outputs": [],
   "source": [
    "data = data[data.publication != 'Breitbart']"
   ]
  },
  {
   "cell_type": "code",
   "execution_count": 10,
   "metadata": {
    "colab": {
     "autoexec": {
      "startup": false,
      "wait_interval": 0
     },
     "base_uri": "https://localhost:8080/",
     "height": 204
    },
    "colab_type": "code",
    "executionInfo": {
     "elapsed": 669,
     "status": "ok",
     "timestamp": 1526289186981,
     "user": {
      "displayName": "Thomas Schmied",
      "photoUrl": "https://lh3.googleusercontent.com/a/default-user=s128",
      "userId": "102636220151368904258"
     },
     "user_tz": -120
    },
    "id": "DbEu210vMRxX",
    "outputId": "4e642b99-7a8a-4db5-dade-5b219242c97e"
   },
   "outputs": [
    {
     "data": {
      "text/plain": [
       "Unnamed: 0         0\n",
       "id                 0\n",
       "title              4\n",
       "publication        0\n",
       "author         25446\n",
       "date            5282\n",
       "year            5282\n",
       "month           5282\n",
       "url            40241\n",
       "content            0\n",
       "dtype: int64"
      ]
     },
     "execution_count": 10,
     "metadata": {},
     "output_type": "execute_result"
    }
   ],
   "source": [
    "# Two titles are missing. \n",
    "data.isnull().sum()"
   ]
  },
  {
   "cell_type": "code",
   "execution_count": 11,
   "metadata": {
    "colab": {
     "autoexec": {
      "startup": false,
      "wait_interval": 0
     }
    },
    "colab_type": "code",
    "id": "VucVlkrAMRxi"
   },
   "outputs": [],
   "source": [
    "# drop those. \n",
    "data.dropna(subset=['title'], inplace = True)"
   ]
  },
  {
   "cell_type": "code",
   "execution_count": 12,
   "metadata": {
    "colab": {
     "autoexec": {
      "startup": false,
      "wait_interval": 0
     }
    },
    "colab_type": "code",
    "id": "J9D8Zd4_MRxq"
   },
   "outputs": [],
   "source": [
    "# to make the transition from the amazon review example to this one as comfortable as possbile we just rename \n",
    "# the columns. \n",
    "data.rename(index = str, columns = {'title':'Summary', 'content':'Text'}, inplace = True)\n",
    "data = data[['Summary', 'Text']]"
   ]
  },
  {
   "cell_type": "code",
   "execution_count": 13,
   "metadata": {
    "colab": {
     "autoexec": {
      "startup": false,
      "wait_interval": 0
     },
     "base_uri": "https://localhost:8080/",
     "height": 204
    },
    "colab_type": "code",
    "executionInfo": {
     "elapsed": 565,
     "status": "ok",
     "timestamp": 1526289189478,
     "user": {
      "displayName": "Thomas Schmied",
      "photoUrl": "https://lh3.googleusercontent.com/a/default-user=s128",
      "userId": "102636220151368904258"
     },
     "user_tz": -120
    },
    "id": "n3thvZxTMRxt",
    "outputId": "a36194ad-7d91-4c1d-c92e-ce85580ca115"
   },
   "outputs": [
    {
     "data": {
      "text/html": [
       "<div>\n",
       "<style>\n",
       "    .dataframe thead tr:only-child th {\n",
       "        text-align: right;\n",
       "    }\n",
       "\n",
       "    .dataframe thead th {\n",
       "        text-align: left;\n",
       "    }\n",
       "\n",
       "    .dataframe tbody tr th {\n",
       "        vertical-align: top;\n",
       "    }\n",
       "</style>\n",
       "<table border=\"1\" class=\"dataframe\">\n",
       "  <thead>\n",
       "    <tr style=\"text-align: right;\">\n",
       "      <th></th>\n",
       "      <th>Summary</th>\n",
       "      <th>Text</th>\n",
       "    </tr>\n",
       "  </thead>\n",
       "  <tbody>\n",
       "    <tr>\n",
       "      <th>0</th>\n",
       "      <td>House Republicans Fret About Winning Their Hea...</td>\n",
       "      <td>WASHINGTON  —   Congressional Republicans have...</td>\n",
       "    </tr>\n",
       "    <tr>\n",
       "      <th>1</th>\n",
       "      <td>Rift Between Officers and Residents as Killing...</td>\n",
       "      <td>After the bullet shells get counted, the blood...</td>\n",
       "    </tr>\n",
       "    <tr>\n",
       "      <th>2</th>\n",
       "      <td>Tyrus Wong, ‘Bambi’ Artist Thwarted by Racial ...</td>\n",
       "      <td>When Walt Disney’s “Bambi” opened in 1942, cri...</td>\n",
       "    </tr>\n",
       "    <tr>\n",
       "      <th>3</th>\n",
       "      <td>Among Deaths in 2016, a Heavy Toll in Pop Musi...</td>\n",
       "      <td>Death may be the great equalizer, but it isn’t...</td>\n",
       "    </tr>\n",
       "    <tr>\n",
       "      <th>4</th>\n",
       "      <td>Kim Jong-un Says North Korea Is Preparing to T...</td>\n",
       "      <td>SEOUL, South Korea  —   North Korea’s leader, ...</td>\n",
       "    </tr>\n",
       "  </tbody>\n",
       "</table>\n",
       "</div>"
      ],
      "text/plain": [
       "                                             Summary  \\\n",
       "0  House Republicans Fret About Winning Their Hea...   \n",
       "1  Rift Between Officers and Residents as Killing...   \n",
       "2  Tyrus Wong, ‘Bambi’ Artist Thwarted by Racial ...   \n",
       "3  Among Deaths in 2016, a Heavy Toll in Pop Musi...   \n",
       "4  Kim Jong-un Says North Korea Is Preparing to T...   \n",
       "\n",
       "                                                Text  \n",
       "0  WASHINGTON  —   Congressional Republicans have...  \n",
       "1  After the bullet shells get counted, the blood...  \n",
       "2  When Walt Disney’s “Bambi” opened in 1942, cri...  \n",
       "3  Death may be the great equalizer, but it isn’t...  \n",
       "4  SEOUL, South Korea  —   North Korea’s leader, ...  "
      ]
     },
     "execution_count": 13,
     "metadata": {},
     "output_type": "execute_result"
    }
   ],
   "source": [
    "data = data[['Summary', 'Text']]\n",
    "data.head()"
   ]
  },
  {
   "cell_type": "code",
   "execution_count": 14,
   "metadata": {
    "colab": {
     "autoexec": {
      "startup": false,
      "wait_interval": 0
     },
     "base_uri": "https://localhost:8080/",
     "height": 187
    },
    "colab_type": "code",
    "executionInfo": {
     "elapsed": 664,
     "status": "ok",
     "timestamp": 1526289191536,
     "user": {
      "displayName": "Thomas Schmied",
      "photoUrl": "https://lh3.googleusercontent.com/a/default-user=s128",
      "userId": "102636220151368904258"
     },
     "user_tz": -120
    },
    "id": "97yPpMhtMRxw",
    "outputId": "87a13350-0e54-458b-a20f-50928ac99562"
   },
   "outputs": [
    {
     "name": "stdout",
     "output_type": "stream",
     "text": [
      "House Republicans Fret About Winning Their Health Care Suit - The New York Times\n",
      "Rift Between Officers and Residents as Killings Persist in South Bronx - The New York Times\n",
      "Tyrus Wong, ‘Bambi’ Artist Thwarted by Racial Bias, Dies at 106 - The New York Times\n",
      "Among Deaths in 2016, a Heavy Toll in Pop Music - The New York Times\n",
      "Kim Jong-un Says North Korea Is Preparing to Test Long-Range Missile - The New York Times\n",
      "Sick With a Cold, Queen Elizabeth Misses New Year’s Service - The New York Times\n",
      "Taiwan’s President Accuses China of Renewed Intimidation - The New York Times\n",
      "After ‘The Biggest Loser,’ Their Bodies Fought to Regain Weight - The New York Times\n",
      "First, a Mixtape. Then a Romance. - The New York Times\n",
      "Calling on Angels While Enduring the Trials of Job - The New York Times\n"
     ]
    }
   ],
   "source": [
    "# let's have a look. \n",
    "for x in data.Summary[:10]:\n",
    "    print(x)"
   ]
  },
  {
   "cell_type": "code",
   "execution_count": 15,
   "metadata": {
    "colab": {
     "autoexec": {
      "startup": false,
      "wait_interval": 0
     },
     "base_uri": "https://localhost:8080/",
     "height": 54
    },
    "colab_type": "code",
    "executionInfo": {
     "elapsed": 652,
     "status": "ok",
     "timestamp": 1526289193617,
     "user": {
      "displayName": "Thomas Schmied",
      "photoUrl": "https://lh3.googleusercontent.com/a/default-user=s128",
      "userId": "102636220151368904258"
     },
     "user_tz": -120
    },
    "id": "tJkeTnXIMRxz",
    "outputId": "1ee7308b-795f-476f-90bd-a8db826b1a02"
   },
   "outputs": [
    {
     "data": {
      "text/plain": [
       "'WASHINGTON  —   Congressional Republicans have a new fear when it comes to their    health care lawsuit against the Obama administration: They might win. The incoming Trump administration could choose to no longer defend the executive branch against the suit, which challenges the administration’s authority to spend billions of dollars on health insurance subsidies for   and   Americans, handing House Republicans a big victory on    issues. But a sudden loss of the disputed subsidies could conceivably cause the health care program to implode, leaving millions of people without access to health insurance before Republicans have prepared a replacement. That could lead to chaos in the insurance market and spur a political backlash just as Republicans gain full control of the government. To stave off that outcome, Republicans could find themselves in the awkward position of appropriating huge sums to temporarily prop up the Obama health care law, angering conservative voters who have been demanding an end to the law for years. In another twist, Donald J. Trump’s administration, worried about preserving executive branch prerogatives, could choose to fight its Republican allies in the House on some central questions in the dispute. Eager to avoid an ugly political pileup, Republicans on Capitol Hill and the Trump transition team are gaming out how to handle the lawsuit, which, after the election, has been put in limbo until at least late February by the United States Court of Appeals for the District of Columbia Circuit. They are not yet ready to divulge their strategy. “Given that this pending litigation involves the Obama administration and Congress, it would be inappropriate to comment,” said Phillip J. Blando, a spokesman for the Trump transition effort. “Upon taking office, the Trump administration will evaluate this case and all related aspects of the Affordable Care Act. ” In a potentially   decision in 2015, Judge Rosemary M. Collyer ruled that House Republicans had the standing to sue the executive branch over a spending dispute and that the Obama administration had been distributing the health insurance subsidies, in violation of the Constitution, without approval from Congress. The Justice Department, confident that Judge Collyer’s decision would be reversed, quickly appealed, and the subsidies have remained in place during the appeal. In successfully seeking a temporary halt in the proceedings after Mr. Trump won, House Republicans last month told the court that they “and the  ’s transition team currently are discussing potential options for resolution of this matter, to take effect after the  ’s inauguration on Jan. 20, 2017. ” The suspension of the case, House lawyers said, will “provide the   and his future administration time to consider whether to continue prosecuting or to otherwise resolve this appeal. ” Republican leadership officials in the House acknowledge the possibility of “cascading effects” if the   payments, which have totaled an estimated $13 billion, are suddenly stopped. Insurers that receive the subsidies in exchange for paying    costs such as deductibles and   for eligible consumers could race to drop coverage since they would be losing money. Over all, the loss of the subsidies could destabilize the entire program and cause a lack of confidence that leads other insurers to seek a quick exit as well. Anticipating that the Trump administration might not be inclined to mount a vigorous fight against the House Republicans given the  ’s dim view of the health care law, a team of lawyers this month sought to intervene in the case on behalf of two participants in the health care program. In their request, the lawyers predicted that a deal between House Republicans and the new administration to dismiss or settle the case “will produce devastating consequences for the individuals who receive these reductions, as well as for the nation’s health insurance and health care systems generally. ” No matter what happens, House Republicans say, they want to prevail on two overarching concepts: the congressional power of the purse, and the right of Congress to sue the executive branch if it violates the Constitution regarding that spending power. House Republicans contend that Congress never appropriated the money for the subsidies, as required by the Constitution. In the suit, which was initially championed by John A. Boehner, the House speaker at the time, and later in House committee reports, Republicans asserted that the administration, desperate for the funding, had required the Treasury Department to provide it despite widespread internal skepticism that the spending was proper. The White House said that the spending was a permanent part of the law passed in 2010, and that no annual appropriation was required  —   even though the administration initially sought one. Just as important to House Republicans, Judge Collyer found that Congress had the standing to sue the White House on this issue  —   a ruling that many legal experts said was flawed  —   and they want that precedent to be set to restore congressional leverage over the executive branch. But on spending power and standing, the Trump administration may come under pressure from advocates of presidential authority to fight the House no matter their shared views on health care, since those precedents could have broad repercussions. It is a complicated set of dynamics illustrating how a quick legal victory for the House in the Trump era might come with costs that Republicans never anticipated when they took on the Obama White House.'"
      ]
     },
     "execution_count": 15,
     "metadata": {},
     "output_type": "execute_result"
    }
   ],
   "source": [
    "data.Text[0]"
   ]
  },
  {
   "cell_type": "code",
   "execution_count": 16,
   "metadata": {
    "colab": {
     "autoexec": {
      "startup": false,
      "wait_interval": 0
     }
    },
    "colab_type": "code",
    "id": "N4C4UW8OMRx1"
   },
   "outputs": [],
   "source": [
    "# again we will not use all of the examples, but only pick some. \n",
    "len_summaries = [len(summary) for i, summary in enumerate(data.Summary)]\n",
    "len_texts = [len(text) for text in data.Text]"
   ]
  },
  {
   "cell_type": "code",
   "execution_count": 17,
   "metadata": {
    "colab": {
     "autoexec": {
      "startup": false,
      "wait_interval": 0
     },
     "base_uri": "https://localhost:8080/",
     "height": 357
    },
    "colab_type": "code",
    "executionInfo": {
     "elapsed": 510,
     "status": "ok",
     "timestamp": 1526289195789,
     "user": {
      "displayName": "Thomas Schmied",
      "photoUrl": "https://lh3.googleusercontent.com/a/default-user=s128",
      "userId": "102636220151368904258"
     },
     "user_tz": -120
    },
    "id": "YDIELEqAMRx3",
    "outputId": "d992bcca-2abf-496c-e595-f0e47813e7bf"
   },
   "outputs": [
    {
     "data": {
      "text/plain": [
       "([(63, 5473),\n",
       "  (64, 5440),\n",
       "  (60, 5434),\n",
       "  (59, 5372),\n",
       "  (62, 5372),\n",
       "  (58, 5315),\n",
       "  (61, 5257),\n",
       "  (65, 5220),\n",
       "  (66, 4992),\n",
       "  (67, 4982)],\n",
       " [(2878, 67),\n",
       "  (2715, 66),\n",
       "  (3976, 64),\n",
       "  (2457, 61),\n",
       "  (2935, 61),\n",
       "  (2889, 61),\n",
       "  (2858, 61),\n",
       "  (4191, 60),\n",
       "  (3612, 60),\n",
       "  (2617, 59)])"
      ]
     },
     "execution_count": 17,
     "metadata": {},
     "output_type": "execute_result"
    }
   ],
   "source": [
    "len_summaries_counted = Counter(len_summaries).most_common()\n",
    "len_texts_counted = Counter(len_texts).most_common()\n",
    "len_summaries_counted[:10], len_texts_counted[:10]"
   ]
  },
  {
   "cell_type": "code",
   "execution_count": 18,
   "metadata": {
    "colab": {
     "autoexec": {
      "startup": false,
      "wait_interval": 0
     }
    },
    "colab_type": "code",
    "id": "ejB7lS-yMRx6"
   },
   "outputs": [],
   "source": [
    "# we will only use shorter texts, as I have limited resources and those are easier to learn\n",
    "indices = [ind for ind, text in enumerate(data.Text) if 50 < len(text) < 200]"
   ]
  },
  {
   "cell_type": "code",
   "execution_count": null,
   "metadata": {
    "colab": {
     "autoexec": {
      "startup": false,
      "wait_interval": 0
     },
     "base_uri": "https://localhost:8080/",
     "height": 34
    },
    "colab_type": "code",
    "executionInfo": {
     "elapsed": 550,
     "status": "ok",
     "timestamp": 1526302480706,
     "user": {
      "displayName": "Thomas Schmied",
      "photoUrl": "https://lh3.googleusercontent.com/a/default-user=s128",
      "userId": "102636220151368904258"
     },
     "user_tz": -120
    },
    "id": "2iViCwQOMRyA",
    "outputId": "57a1e940-cf66-4d40-bea0-4f71431728bf"
   },
   "outputs": [],
   "source": [
    "len(indices), len(texts_unprocessed), len(summaries_unprocessed)"
   ]
  },
  {
   "cell_type": "code",
   "execution_count": 20,
   "metadata": {
    "colab": {
     "autoexec": {
      "startup": false,
      "wait_interval": 0
     }
    },
    "colab_type": "code",
    "id": "reaNyUfEMRyK"
   },
   "outputs": [],
   "source": [
    "# articles from nyt and breitbart seem to have those endings, therefore\n",
    "# we will remove those, as that is not relevant. \n",
    "to_remove = ['- The New York Times', '- Breitbart']\n",
    "\n",
    "summaries_unprocessed_clean = []\n",
    "texts_unprocessed_clean = []\n",
    "\n",
    "removed = 0\n",
    "append = True\n",
    "for sentence in summaries_unprocessed:\n",
    "    append = True\n",
    "    for r in to_remove:\n",
    "        if sentence.endswith(r):\n",
    "            sentence = sentence.replace(r, '.')\n",
    "            summaries_unprocessed_clean.append(sentence.replace(r, '.'))\n",
    "            removed+=1\n",
    "            append = False\n",
    "            break\n",
    "            \n",
    "    if append:\n",
    "        summaries_unprocessed_clean.append(sentence)\n",
    "       \n"
   ]
  },
  {
   "cell_type": "code",
   "execution_count": 249,
   "metadata": {
    "colab": {
     "autoexec": {
      "startup": false,
      "wait_interval": 0
     },
     "base_uri": "https://localhost:8080/",
     "height": 34
    },
    "colab_type": "code",
    "executionInfo": {
     "elapsed": 460,
     "status": "ok",
     "timestamp": 1526302485245,
     "user": {
      "displayName": "Thomas Schmied",
      "photoUrl": "https://lh3.googleusercontent.com/a/default-user=s128",
      "userId": "102636220151368904258"
     },
     "user_tz": -120
    },
    "id": "beRHtEJjKsTk",
    "outputId": "b749b41e-636a-464d-9307-94da0d43d878"
   },
   "outputs": [
    {
     "data": {
      "text/plain": [
       "(725, 725)"
      ]
     },
     "execution_count": 249,
     "metadata": {
      "tags": []
     },
     "output_type": "execute_result"
    }
   ],
   "source": [
    "len(summaries_unprocessed_clean), len(texts_unprocessed)"
   ]
  },
  {
   "cell_type": "markdown",
   "metadata": {
    "colab_type": "text",
    "id": "wgyRluMkMRyQ"
   },
   "source": [
    "### Clean and prepare the data"
   ]
  },
  {
   "cell_type": "code",
   "execution_count": 21,
   "metadata": {
    "colab": {
     "autoexec": {
      "startup": false,
      "wait_interval": 0
     },
     "base_uri": "https://localhost:8080/",
     "height": 34
    },
    "colab_type": "code",
    "executionInfo": {
     "elapsed": 764,
     "status": "ok",
     "timestamp": 1526302488446,
     "user": {
      "displayName": "Thomas Schmied",
      "photoUrl": "https://lh3.googleusercontent.com/a/default-user=s128",
      "userId": "102636220151368904258"
     },
     "user_tz": -120
    },
    "id": "j0UGeO2jMRyR",
    "outputId": "985839a3-4776-4855-bab1-df8868cfd4a7"
   },
   "outputs": [
    {
     "name": "stdout",
     "output_type": "stream",
     "text": [
      "Processing Time:  0.5395939350128174\n"
     ]
    }
   ],
   "source": [
    "# preprocess the texts and summaries.\n",
    "# we have the option to keep_most or not. in this case we do not want 'to keep most', i.e. we will only keep\n",
    "# letters and numbers. \n",
    "# (to improve the model, this preprocessing step should be refined)\n",
    "processed_texts, processed_summaries, words_counted = summarizer_data_utils.preprocess_texts_and_summaries(\n",
    "    texts_unprocessed,\n",
    "    summaries_unprocessed_clean,\n",
    "    keep_most=False)"
   ]
  },
  {
   "cell_type": "code",
   "execution_count": 24,
   "metadata": {
    "colab": {
     "autoexec": {
      "startup": false,
      "wait_interval": 0
     }
    },
    "colab_type": "code",
    "id": "mgccbEPjuRNa"
   },
   "outputs": [],
   "source": [
    "# some of the texts are empty remove those. \n",
    "processed_texts_clean = []\n",
    "processed_summaries_clean = []\n",
    "\n",
    "for t, s in zip(processed_texts, processed_summaries):\n",
    "    if t != [] and s != []:\n",
    "        processed_texts_clean.append(t)\n",
    "        processed_summaries_clean.append(s)"
   ]
  },
  {
   "cell_type": "markdown",
   "metadata": {
    "colab_type": "text",
    "id": "aEKcHwAgwdO8"
   },
   "source": [
    "### Create lookup dicts\n",
    "\n",
    "We cannot feed our network actual words, but numbers. So we first have to create our lookup dicts, where each words gets and int value (high or low, depending on its frequency in our corpus). Those help us to later convert the texts into numbers.\n",
    "\n",
    "We also add special tokens. EndOfSentence and StartOfSentence are crucial for the Seq2Seq model we later use.\n",
    "Pad token, because all summaries and texts in a batch need to have the same length, pad token helps us do that.\n",
    "\n",
    "So we need 2 lookup dicts:\n",
    " - From word to index \n",
    " - from index to word. "
   ]
  },
  {
   "cell_type": "code",
   "execution_count": 307,
   "metadata": {
    "colab": {
     "autoexec": {
      "startup": false,
      "wait_interval": 0
     },
     "base_uri": "https://localhost:8080/",
     "height": 34
    },
    "colab_type": "code",
    "executionInfo": {
     "elapsed": 758,
     "status": "ok",
     "timestamp": 1526303158556,
     "user": {
      "displayName": "Thomas Schmied",
      "photoUrl": "https://lh3.googleusercontent.com/a/default-user=s128",
      "userId": "102636220151368904258"
     },
     "user_tz": -120
    },
    "id": "qkJa2U71MRyd",
    "outputId": "0aa5aa57-193f-4c43-832a-f43bcbce4c39"
   },
   "outputs": [
    {
     "name": "stdout",
     "output_type": "stream",
     "text": [
      "2033 2033 2489\n"
     ]
    }
   ],
   "source": [
    "# create lookup dicts.\n",
    "# most oft the words only appear only once. \n",
    "# min_occureces set to 2 reduces our vocabulary by more than half.\n",
    "specials = [\"<EOS>\", \"<SOS>\",\"<PAD>\",\"<UNK>\"]\n",
    "word2ind, ind2word,  missing_words = summarizer_data_utils.create_word_inds_dicts(words_counted,\n",
    "                                                                                  specials = specials,\n",
    "                                                                                  min_occurences = 2)\n",
    "print(len(word2ind), len(ind2word), len(missing_words))\n"
   ]
  },
  {
   "cell_type": "markdown",
   "metadata": {
    "colab_type": "text",
    "id": "AROztGFeMRyf"
   },
   "source": [
    "### Pretrained embeddings\n",
    "\n",
    "Optionally we can use pretrained word embeddings. Those have proved to increase training speed and accuracy.\n",
    "Here I used two different options. Either we use glove embeddings or embeddings from tf_hub.\n",
    "The ones from tf_hub worked better."
   ]
  },
  {
   "cell_type": "code",
   "execution_count": 0,
   "metadata": {
    "colab": {
     "autoexec": {
      "startup": false,
      "wait_interval": 0
     }
    },
    "colab_type": "code",
    "id": "BP0Q0rLYMRyg"
   },
   "outputs": [],
   "source": [
    "# glove_embeddings_path = '/Users/thomas/Jupyter_Notebooks/Pro Deep Learning with Tensorflow/Notebooks/glove/glove.6B.300d.txt'\n",
    "# embedding_matrix_save_path = './embeddings/my_embedding.npy'\n",
    "# emb = summarizer_data_utils.create_and_save_embedding_matrix(word2ind,\n",
    "#                                                        glove_embeddings_path,\n",
    "#                                                        embedding_matrix_save_path)"
   ]
  },
  {
   "cell_type": "code",
   "execution_count": 310,
   "metadata": {
    "colab": {
     "autoexec": {
      "startup": false,
      "wait_interval": 0
     },
     "base_uri": "https://localhost:8080/",
     "height": 54
    },
    "colab_type": "code",
    "executionInfo": {
     "elapsed": 6500,
     "status": "ok",
     "timestamp": 1526303167329,
     "user": {
      "displayName": "Thomas Schmied",
      "photoUrl": "https://lh3.googleusercontent.com/a/default-user=s128",
      "userId": "102636220151368904258"
     },
     "user_tz": -120
    },
    "id": "tZiKedMCMRym",
    "outputId": "ecc3045b-a8bc-439b-da95-f25353f96dde"
   },
   "outputs": [
    {
     "name": "stdout",
     "output_type": "stream",
     "text": [
      "INFO:tensorflow:Initialize variable module_2/embeddings/part_0:0,module_2/embeddings/part_1:0 from checkpoint b'/tmp/tfhub_modules/1e7e72950396d90315d3d9c57eddf5da44d4dca2/variables/variables' with embeddings\n"
     ]
    }
   ],
   "source": [
    "# the embeddings from tf.hub. \n",
    "# embed = hub.Module(\"https://tfhub.dev/google/nnlm-en-dim128/1\")\n",
    "embed = hub.Module(\"https://tfhub.dev/google/Wiki-words-250/1\")\n",
    "emb = embed([key for key in word2ind.keys()])\n",
    "\n",
    "with tf.Session() as sess:\n",
    "    sess.run(tf.global_variables_initializer())\n",
    "    sess.run(tf.tables_initializer())\n",
    "    embedding = sess.run(emb)"
   ]
  },
  {
   "cell_type": "code",
   "execution_count": 311,
   "metadata": {
    "colab": {
     "autoexec": {
      "startup": false,
      "wait_interval": 0
     },
     "base_uri": "https://localhost:8080/",
     "height": 34
    },
    "colab_type": "code",
    "executionInfo": {
     "elapsed": 654,
     "status": "ok",
     "timestamp": 1526303168040,
     "user": {
      "displayName": "Thomas Schmied",
      "photoUrl": "https://lh3.googleusercontent.com/a/default-user=s128",
      "userId": "102636220151368904258"
     },
     "user_tz": -120
    },
    "id": "p3ZPvxttMRyp",
    "outputId": "42fcbe6f-822e-4100-ed99-8385695393ac"
   },
   "outputs": [
    {
     "data": {
      "text/plain": [
       "(2033, 250)"
      ]
     },
     "execution_count": 311,
     "metadata": {
      "tags": []
     },
     "output_type": "execute_result"
    }
   ],
   "source": [
    "embedding.shape"
   ]
  },
  {
   "cell_type": "code",
   "execution_count": 0,
   "metadata": {
    "colab": {
     "autoexec": {
      "startup": false,
      "wait_interval": 0
     }
    },
    "colab_type": "code",
    "id": "J3TcS6R9MRys"
   },
   "outputs": [],
   "source": [
    "np.save('./tf_hub_embedding_headlines.npy', embedding)"
   ]
  },
  {
   "cell_type": "markdown",
   "metadata": {
    "colab_type": "text",
    "id": "hZE4e-WpMRyv"
   },
   "source": [
    "### Convert text and summaries\n",
    "As I said before we cannot feed the words directly to our network, we have to convert them to numbers first of all. This is what we do here. And we also append the SOS and EOS tokens."
   ]
  },
  {
   "cell_type": "code",
   "execution_count": 0,
   "metadata": {
    "colab": {
     "autoexec": {
      "startup": false,
      "wait_interval": 0
     }
    },
    "colab_type": "code",
    "id": "OlJj89OoMRyv"
   },
   "outputs": [],
   "source": [
    "# converts words in texts and summaries to indices\n",
    "converted_texts, unknown_words_in_texts = summarizer_data_utils.convert_to_inds(processed_texts_clean,\n",
    "                                                                                word2ind,\n",
    "                                                                                eos = False)"
   ]
  },
  {
   "cell_type": "code",
   "execution_count": 0,
   "metadata": {
    "colab": {
     "autoexec": {
      "startup": false,
      "wait_interval": 0
     }
    },
    "colab_type": "code",
    "id": "wwQOF00rMRyx"
   },
   "outputs": [],
   "source": [
    "converted_summaries, unknown_words_in_summaries = summarizer_data_utils.convert_to_inds(processed_summaries_clean,\n",
    "                                                                                        word2ind,\n",
    "                                                                                        eos = True,\n",
    "                                                                                        sos = True)"
   ]
  },
  {
   "cell_type": "code",
   "execution_count": 316,
   "metadata": {
    "colab": {
     "autoexec": {
      "startup": false,
      "wait_interval": 0
     },
     "base_uri": "https://localhost:8080/",
     "height": 71
    },
    "colab_type": "code",
    "executionInfo": {
     "elapsed": 769,
     "status": "ok",
     "timestamp": 1526303172571,
     "user": {
      "displayName": "Thomas Schmied",
      "photoUrl": "https://lh3.googleusercontent.com/a/default-user=s128",
      "userId": "102636220151368904258"
     },
     "user_tz": -120
    },
    "id": "Ji7aug7CMRyz",
    "outputId": "8e793992-ea75-497f-e08e-774d3ce62b33"
   },
   "outputs": [
    {
     "name": "stdout",
     "output_type": "stream",
     "text": [
      "['in', 'a', 'major', 'abortion', 'ruling', 'monday', 'the', 'supreme', 'court', '<UNK>', 'down', '<UNK>', 'of', 'a', 'texas', 'law', 'that', 'would', 'have', '<UNK>', 'dozens', 'of', '<UNK>', 'to', 'close', 'here', 'are', 'reactions', 'from', 'all', '<UNK>', 'of', 'the', '<UNK>']\n",
      "['<SOS>', 'reactions', 'to', 'the', 'supreme', 'court', 'ruling', 'on', 'texas', 'abortion', 'law', '<EOS>']\n"
     ]
    }
   ],
   "source": [
    "# seems to have worked well. \n",
    "print(summarizer_data_utils.convert_inds_to_text(converted_texts[0], ind2word))\n",
    "print(summarizer_data_utils.convert_inds_to_text(converted_summaries[0], ind2word))\n"
   ]
  },
  {
   "cell_type": "markdown",
   "metadata": {
    "colab_type": "text",
    "id": "M0Y2suasMRy2"
   },
   "source": [
    "## The model\n",
    "\n",
    "Now we can build and train our model. First we define the hyperparameters we want to use. Then we create our Summarizer and call the function .build_graph(), which as the name suggests, builds the computation graph. \n",
    "Then we can train the model using .train()\n",
    "\n",
    "After training we can try our model using .infer()"
   ]
  },
  {
   "cell_type": "markdown",
   "metadata": {
    "colab_type": "text",
    "id": "JVW72Wc2MRy2"
   },
   "source": [
    "### Training\n",
    "Unfortunately I do not have the resources to find the perfect (or right) hyperparameters, but these do pretty well. \n",
    "\n",
    "I trained the model for about 40 epochs. the training loss, as well as the validation loss were both still declining.\n",
    "I chose to use 90% of the data as trainign set and 10% as validation set. We could have also used sklearn's train_test_split here. "
   ]
  },
  {
   "cell_type": "code",
   "execution_count": 0,
   "metadata": {
    "colab": {
     "autoexec": {
      "startup": false,
      "wait_interval": 0
     }
    },
    "colab_type": "code",
    "id": "gt3IfgWsMRy3"
   },
   "outputs": [],
   "source": [
    "# model hyperparameters\n",
    "num_layers_encoder = 4\n",
    "num_layers_decoder = 4\n",
    "rnn_size_encoder = 300\n",
    "rnn_size_decoder = 300\n",
    "\n",
    "batch_size = 32\n",
    "epochs = 100\n",
    "clip = 5\n",
    "keep_probability = 0.8\n",
    "learning_rate = 0.0005\n",
    "max_lr=0.005\n",
    "learning_rate_decay_steps = 100\n",
    "learning_rate_decay = 0.90\n",
    "\n",
    "\n",
    "pretrained_embeddings_path = './tf_hub_embedding_headlines.npy'\n",
    "summary_dir = os.path.join('./tensorboard/headlines')\n",
    "\n",
    "use_cyclic_lr = True\n",
    "inference_targets=True\n"
   ]
  },
  {
   "cell_type": "code",
   "execution_count": null,
   "metadata": {
    "colab": {
     "autoexec": {
      "startup": false,
      "wait_interval": 0
     },
     "base_uri": "https://localhost:8080/",
     "height": 19349
    },
    "colab_type": "code",
    "executionInfo": {
     "elapsed": 2406580,
     "status": "ok",
     "timestamp": 1526305857191,
     "user": {
      "displayName": "Thomas Schmied",
      "photoUrl": "https://lh3.googleusercontent.com/a/default-user=s128",
      "userId": "102636220151368904258"
     },
     "user_tz": -120
    },
    "id": "dN0Cd-YwMRzB",
    "outputId": "d7c51cf4-0904-44dd-8180-286830a8db5c"
   },
   "outputs": [],
   "source": [
    "# build graph and train the model \n",
    "summarizer_model_utils.reset_graph()\n",
    "summarizer = Summarizer.Summarizer(word2ind,\n",
    "                                   ind2word,\n",
    "                                   save_path='./models/headlines/my_model',\n",
    "                                   mode='TRAIN',\n",
    "                                   num_layers_encoder = num_layers_encoder,\n",
    "                                   num_layers_decoder = num_layers_decoder,\n",
    "                                   rnn_size_encoder = rnn_size_encoder,\n",
    "                                   rnn_size_decoder = rnn_size_decoder,\n",
    "                                   batch_size = batch_size,\n",
    "                                   clip = clip,\n",
    "                                   keep_probability = keep_probability,\n",
    "                                   learning_rate = learning_rate,\n",
    "                                   max_lr=max_lr,\n",
    "                                   learning_rate_decay_steps = learning_rate_decay_steps,\n",
    "                                   learning_rate_decay = learning_rate_decay,\n",
    "                                   epochs = epochs,\n",
    "                                   pretrained_embeddings_path = pretrained_embeddings_path,\n",
    "                                   use_cyclic_lr = use_cyclic_lr,)\n",
    "#                                    summary_dir = summary_dir)           \n",
    "\n",
    "summarizer.build_graph()\n",
    "summarizer.train(converted_texts, \n",
    "                 converted_summaries)\n"
   ]
  },
  {
   "cell_type": "markdown",
   "metadata": {
    "colab_type": "text",
    "id": "MjUaeeaWMRzG"
   },
   "source": [
    "### Inference\n",
    "Now we can use our trained model to create summaries. Here we are clearly overfitting, as we only trained on 700 examples. (i.e. the model does not generalize at all.)\n"
   ]
  },
  {
   "cell_type": "code",
   "execution_count": 323,
   "metadata": {
    "colab": {
     "autoexec": {
      "startup": false,
      "wait_interval": 0
     },
     "base_uri": "https://localhost:8080/",
     "height": 85
    },
    "colab_type": "code",
    "executionInfo": {
     "elapsed": 6081,
     "status": "ok",
     "timestamp": 1526306582837,
     "user": {
      "displayName": "Thomas Schmied",
      "photoUrl": "https://lh3.googleusercontent.com/a/default-user=s128",
      "userId": "102636220151368904258"
     },
     "user_tz": -120
    },
    "id": "cgmYrJr5MRzH",
    "outputId": "a612f97b-d518-4639-bc1f-47fc80c53608"
   },
   "outputs": [
    {
     "name": "stdout",
     "output_type": "stream",
     "text": [
      "Loaded pretrained embeddings.\n",
      "Graph built.\n",
      "INFO:tensorflow:Restoring parameters from ./models/headlines/my_model\n",
      "Done.\n"
     ]
    }
   ],
   "source": [
    "summarizer_model_utils.reset_graph()\n",
    "summarizer = Summarizer.Summarizer(word2ind,\n",
    "                                   ind2word,\n",
    "                                   './models/headlines/my_model',\n",
    "                                   'INFER',\n",
    "                                   num_layers_encoder = num_layers_encoder,\n",
    "                                   num_layers_decoder = num_layers_decoder,\n",
    "                                   batch_size = len(converted_texts[:50]),\n",
    "                                   clip = clip,\n",
    "                                   keep_probability = 1.0,\n",
    "                                   learning_rate = 0.0,\n",
    "                                   beam_width = 5,\n",
    "                                   rnn_size_encoder = rnn_size_encoder,\n",
    "                                   rnn_size_decoder = rnn_size_decoder,\n",
    "                                   inference_targets = False,\n",
    "                                   pretrained_embeddings_path = pretrained_embeddings_path)\n",
    "\n",
    "summarizer.build_graph()\n",
    "preds = summarizer.infer(converted_texts[:50],\n",
    "                         restore_path =  './models/headlines/my_model',\n",
    "                         targets = converted_summaries[:50])\n",
    "\n",
    "\n"
   ]
  },
  {
   "cell_type": "code",
   "execution_count": 324,
   "metadata": {
    "colab": {
     "autoexec": {
      "startup": false,
      "wait_interval": 0
     },
     "base_uri": "https://localhost:8080/",
     "height": 11937
    },
    "colab_type": "code",
    "executionInfo": {
     "elapsed": 471,
     "status": "ok",
     "timestamp": 1526306583402,
     "user": {
      "displayName": "Thomas Schmied",
      "photoUrl": "https://lh3.googleusercontent.com/a/default-user=s128",
      "userId": "102636220151368904258"
     },
     "user_tz": -120
    },
    "id": "S6W26gwxMRzJ",
    "outputId": "63feeb5a-7fa5-4241-dce8-01396ac39646",
    "scrolled": false
   },
   "outputs": [
    {
     "name": "stdout",
     "output_type": "stream",
     "text": [
      "\n",
      "\n",
      "\n",
      " ----------------------------------------------------------------------------------------------------\n",
      "Actual Text:\n",
      "in a major abortion ruling monday the supreme court <UNK> down <UNK> of a texas law that would have <UNK> dozens of <UNK> to close here are reactions from all <UNK> of the <UNK>\n",
      "\n",
      "Actual Summary:\n",
      "reactions to the supreme court ruling on texas abortion law\n",
      "\n",
      "Created Summary:\n",
      "reactions to the supreme court ruling ruling texas abortion abortion\n",
      "\n",
      "\n",
      "\n",
      "\n",
      "\n",
      " ----------------------------------------------------------------------------------------------------\n",
      "Actual Text:\n",
      "christmas <UNK> at the <UNK> <UNK> through <UNK> and <UNK> <UNK> and <UNK> make wonderland out of this <UNK> <UNK> mary j <UNK> christmas in the city\n",
      "\n",
      "Actual Summary:\n",
      "<UNK> christmas <UNK>\n",
      "\n",
      "Created Summary:\n",
      "<UNK> christmas <UNK>\n",
      "\n",
      "\n",
      "\n",
      "\n",
      "\n",
      " ----------------------------------------------------------------------------------------------------\n",
      "Actual Text:\n",
      "cnn cnn opinion is curating tweets from our contributors during president donald trump s inauguration\n",
      "\n",
      "Actual Summary:\n",
      "inauguration in 140 characters\n",
      "\n",
      "Created Summary:\n",
      "the week in <UNK>\n",
      "\n",
      "\n",
      "\n",
      "\n",
      "\n",
      " ----------------------------------------------------------------------------------------------------\n",
      "Actual Text:\n",
      "washington cnn the women s march on washington and other <UNK> around the world as they happened live on january 21 2017\n",
      "\n",
      "Actual Summary:\n",
      "women s march live\n",
      "\n",
      "Created Summary:\n",
      "women s march\n",
      "\n",
      "\n",
      "\n",
      "\n",
      "\n",
      " ----------------------------------------------------------------------------------------------------\n",
      "Actual Text:\n",
      "cnn saturday s womensmarch drew celebrities and politicians out into the <UNK> participating across the united states and the world take a look\n",
      "\n",
      "Actual Summary:\n",
      "celebrities politicians participate in womensmarch\n",
      "\n",
      "Created Summary:\n",
      "celebrities politicians participate in womensmarch\n",
      "\n",
      "\n",
      "\n",
      "\n",
      "\n",
      " ----------------------------------------------------------------------------------------------------\n",
      "Actual Text:\n",
      "cnn president trump s travel ban will remain <UNK> a federal appeals court <UNK> thursday read the court s ruling below\n",
      "\n",
      "Actual Summary:\n",
      "full text <UNK> <UNK> rules against <UNK> travel ban\n",
      "\n",
      "Created Summary:\n",
      "full text <UNK> <UNK> rules against against travel\n",
      "\n",
      "\n",
      "\n",
      "\n",
      "\n",
      " ----------------------------------------------------------------------------------------------------\n",
      "Actual Text:\n",
      "president trump <UNK> <UNK> <UNK> new executive <UNK> and <UNK> a <UNK> speech at <UNK> here is how his <UNK> week in the <UNK> office went down\n",
      "\n",
      "Actual Summary:\n",
      "trump watch live coverage\n",
      "\n",
      "Created Summary:\n",
      "trump live live coverage\n",
      "\n",
      "\n",
      "\n",
      "\n",
      "\n",
      " ----------------------------------------------------------------------------------------------------\n",
      "Actual Text:\n",
      "watch the academy awards live with cnn entertainment as we <UNK> the latest updates on the big moments and the night s winners\n",
      "\n",
      "Actual Summary:\n",
      "<UNK> 2017 live coverage\n",
      "\n",
      "Created Summary:\n",
      "<UNK> 2017 live coverage\n",
      "\n",
      "\n",
      "\n",
      "\n",
      "\n",
      " ----------------------------------------------------------------------------------------------------\n",
      "Actual Text:\n",
      "cnn cnn opinion is curating twitter <UNK> from cnn contributors and outside <UNK> in advance of during and following president trump s speech to a joint <UNK> of congress\n",
      "\n",
      "Actual Summary:\n",
      "trump s speech to congress in 140 characters\n",
      "\n",
      "Created Summary:\n",
      "trump s speech speech congress congress 140 characters\n",
      "\n",
      "\n",
      "\n",
      "\n",
      "\n",
      " ----------------------------------------------------------------------------------------------------\n",
      "Actual Text:\n",
      "cnn our live coverage of president donald trump s first address to congress has ended if you <UNK> t follow in real time read below to see how it all went down\n",
      "\n",
      "Actual Summary:\n",
      "trump s congress speech live updates\n",
      "\n",
      "Created Summary:\n",
      "trump s congress speech congress updates\n",
      "\n",
      "\n",
      "\n",
      "\n",
      "\n",
      " ----------------------------------------------------------------------------------------------------\n",
      "Actual Text:\n",
      "cnn aleppo has become a <UNK> of <UNK> s civil war and the destruction left in its <UNK> see how one family is <UNK> to <UNK> in the <UNK>\n",
      "\n",
      "Actual Summary:\n",
      "one family s struggle to <UNK> aleppo\n",
      "\n",
      "Created Summary:\n",
      "trump family s struggle <UNK> <UNK> aleppo\n",
      "\n",
      "\n",
      "\n",
      "\n",
      "\n",
      " ----------------------------------------------------------------------------------------------------\n",
      "Actual Text:\n",
      "cnn we ve always <UNK> you the news now we re taking you inside it\n",
      "\n",
      "Actual Summary:\n",
      "welcome to <UNK>\n",
      "\n",
      "Created Summary:\n",
      "the week in\n",
      "\n",
      "\n",
      "\n",
      "\n",
      "\n",
      " ----------------------------------------------------------------------------------------------------\n",
      "Actual Text:\n",
      "london cnn three people were killed and dozens more <UNK> in a terror attack wednesday near the houses of parliament in london the <UNK> was also killed get the latest below\n",
      "\n",
      "Actual Summary:\n",
      "london terror attack live updates\n",
      "\n",
      "Created Summary:\n",
      "london terror attack live updates\n",
      "\n",
      "\n",
      "\n",
      "\n",
      "\n",
      " ----------------------------------------------------------------------------------------------------\n",
      "Actual Text:\n",
      "cnn the land of fire <UNK> is on the brink fly over iceland s most famous natural <UNK> and discover how climate change could make it all <UNK>\n",
      "\n",
      "Actual Summary:\n",
      "iceland is <UNK>\n",
      "\n",
      "Created Summary:\n",
      "iceland is <UNK>\n",
      "\n",
      "\n",
      "\n",
      "\n",
      "\n",
      " ----------------------------------------------------------------------------------------------------\n",
      "Actual Text:\n",
      "london cnn uk prime minister <UNK> may has announced plans to call a snap general election on june 8 get the latest updates here\n",
      "\n",
      "Actual Summary:\n",
      "live updates uk pm wants snap election\n",
      "\n",
      "Created Summary:\n",
      "live updates uk pm wants snap snap\n",
      "\n",
      "\n",
      "\n",
      "\n",
      "\n",
      " ----------------------------------------------------------------------------------------------------\n",
      "Actual Text:\n",
      "one night two events we re covering the white house correspondents dinner and trump s rally right here\n",
      "\n",
      "Actual Summary:\n",
      "white house correspondents dinner follow live\n",
      "\n",
      "Created Summary:\n",
      "white <UNK> <UNK> dinner follow live\n",
      "\n",
      "\n",
      "\n",
      "\n",
      "\n",
      " ----------------------------------------------------------------------------------------------------\n",
      "Actual Text:\n",
      "one night two events we re covering the white house correspondents dinner and trump s rally right here\n",
      "\n",
      "Actual Summary:\n",
      "trump s <UNK> day rally live updates\n",
      "\n",
      "Created Summary:\n",
      "white <UNK> <UNK> dinner follow live\n",
      "\n",
      "\n",
      "\n",
      "\n",
      "\n",
      " ----------------------------------------------------------------------------------------------------\n",
      "Actual Text:\n",
      "cnn <UNK> <UNK> will become france s next president <UNK> his rival marine le pen by a wide <UNK> with a majority of <UNK> <UNK> reporting get the latest updates below\n",
      "\n",
      "Actual Summary:\n",
      "french election live updates\n",
      "\n",
      "Created Summary:\n",
      "french election live updates\n",
      "\n",
      "\n",
      "\n",
      "\n",
      "\n",
      " ----------------------------------------------------------------------------------------------------\n",
      "Actual Text:\n",
      "cnn at least 22 people were killed in a terror attack at an <UNK> <UNK> concert in manchester england on monday night get live updates below\n",
      "\n",
      "Actual Summary:\n",
      "manchester bombing live updates\n",
      "\n",
      "Created Summary:\n",
      "manchester bombing live updates\n",
      "\n",
      "\n",
      "\n",
      "\n",
      "\n",
      " ----------------------------------------------------------------------------------------------------\n",
      "Actual Text:\n",
      "london cnn one person was killed and several injured when a <UNK> <UNK> into <UNK> near <UNK> park mosque in north london in the early hours of monday morning follow live updates here\n",
      "\n",
      "Actual Summary:\n",
      "london mosque attack latest updates\n",
      "\n",
      "Created Summary:\n",
      "london mosque attack latest updates\n",
      "\n",
      "\n",
      "\n",
      "\n",
      "\n",
      " ----------------------------------------------------------------------------------------------------\n",
      "Actual Text:\n",
      "go here to follow cnn s coverage of the uk referendum live\n",
      "\n",
      "Actual Summary:\n",
      "timeline how britain got to brexit\n",
      "\n",
      "Created Summary:\n",
      "<UNK> <UNK>\n",
      "\n",
      "\n",
      "\n",
      "\n",
      "\n",
      " ----------------------------------------------------------------------------------------------------\n",
      "Actual Text:\n",
      "go here to follow cnn s coverage of the uk referendum live\n",
      "\n",
      "Actual Summary:\n",
      "who s who in the uk referendum\n",
      "\n",
      "Created Summary:\n",
      "<UNK> <UNK>\n",
      "\n",
      "\n",
      "\n",
      "\n",
      "\n",
      " ----------------------------------------------------------------------------------------------------\n",
      "Actual Text:\n",
      "cnn the <UNK> and <UNK> of <UNK> are visiting canada with their two <UNK> children prince george and <UNK> <UNK> we ll bring you videos photos and news of their tour here\n",
      "\n",
      "Actual Summary:\n",
      "the <UNK> in canada\n",
      "\n",
      "Created Summary:\n",
      "the <UNK> in canada\n",
      "\n",
      "\n",
      "\n",
      "\n",
      "\n",
      " ----------------------------------------------------------------------------------------------------\n",
      "Actual Text:\n",
      "<UNK> a new <UNK> will <UNK> a temporary <UNK> in the <UNK>\n",
      "\n",
      "Actual Summary:\n",
      "first presidential debate live updates\n",
      "\n",
      "Created Summary:\n",
      "<UNK> <UNK>\n",
      "\n",
      "\n",
      "\n",
      "\n",
      "\n",
      " ----------------------------------------------------------------------------------------------------\n",
      "Actual Text:\n",
      "cnn cnn opinion is curating tweets from our contributors on the election\n",
      "\n",
      "Actual Summary:\n",
      "election in 140 characters\n",
      "\n",
      "Created Summary:\n",
      "<UNK> <UNK>\n",
      "\n",
      "\n",
      "\n",
      "\n",
      "\n",
      " ----------------------------------------------------------------------------------------------------\n",
      "Actual Text:\n",
      "cnn 2016 was an incredible year for architecture check out the best of the best and the worst of the worst new buildings of the year\n",
      "\n",
      "Actual Summary:\n",
      "the 2016 <UNK> architecture quiz\n",
      "\n",
      "Created Summary:\n",
      "the 2016 <UNK> architecture quiz\n",
      "\n",
      "\n",
      "\n",
      "\n",
      "\n",
      " ----------------------------------------------------------------------------------------------------\n",
      "Actual Text:\n",
      "view the list of celebrity breakups that we thought would never happen\n",
      "\n",
      "Actual Summary:\n",
      "shocking celebrity breakups\n",
      "\n",
      "Created Summary:\n",
      "<UNK> <UNK>\n",
      "\n",
      "\n",
      "\n",
      "\n",
      "\n",
      " ----------------------------------------------------------------------------------------------------\n",
      "Actual Text:\n",
      "the two <UNK> <UNK> in the charlie <UNK> shootings were killed by security forces after a standoff in france authorities said\n",
      "\n",
      "Actual Summary:\n",
      "manhunt for terror suspects in france\n",
      "\n",
      "Created Summary:\n",
      "manhunt terror terror suspects france france\n",
      "\n",
      "\n",
      "\n",
      "\n",
      "\n",
      " ----------------------------------------------------------------------------------------------------\n",
      "Actual Text:\n",
      "police storm a paris <UNK> market to save <UNK>\n",
      "\n",
      "Actual Summary:\n",
      "hostage situation at paris grocery\n",
      "\n",
      "Created Summary:\n",
      "the <UNK> <UNK>\n",
      "\n",
      "\n",
      "\n",
      "\n",
      "\n",
      " ----------------------------------------------------------------------------------------------------\n",
      "Actual Text:\n",
      "some of the most futuristic products on display at international ces in 2015\n",
      "\n",
      "Actual Summary:\n",
      "tech you missed at ces 2015\n",
      "\n",
      "Created Summary:\n",
      "the a <UNK> <UNK> amazing\n",
      "\n",
      "\n",
      "\n",
      "\n",
      "\n",
      " ----------------------------------------------------------------------------------------------------\n",
      "Actual Text:\n",
      "celebrities arrive at the golden globe awards in <UNK> <UNK> california on sunday january 11\n",
      "\n",
      "Actual Summary:\n",
      "2015 golden globes red carpet\n",
      "\n",
      "Created Summary:\n",
      "the week in <UNK> photos\n",
      "\n",
      "\n",
      "\n",
      "\n",
      "\n",
      " ----------------------------------------------------------------------------------------------------\n",
      "Actual Text:\n",
      "photographer <UNK> <UNK> was at the <UNK> rally in paris which has been called the largest mass gathering in france s history\n",
      "\n",
      "Actual Summary:\n",
      "paris stands together\n",
      "\n",
      "Created Summary:\n",
      "paris stands together\n",
      "\n",
      "\n",
      "\n",
      "\n",
      "\n",
      " ----------------------------------------------------------------------------------------------------\n",
      "Actual Text:\n",
      "the nominations for the <UNK> academy awards are announced the <UNK> ceremony will be february 22\n",
      "\n",
      "Actual Summary:\n",
      "academy award 2015 nominations\n",
      "\n",
      "Created Summary:\n",
      "the s in <UNK>\n",
      "\n",
      "\n",
      "\n",
      "\n",
      "\n",
      " ----------------------------------------------------------------------------------------------------\n",
      "Actual Text:\n",
      "see which celebrities are adding to their families\n",
      "\n",
      "Actual Summary:\n",
      "oh <UNK> growing celebrity families\n",
      "\n",
      "Created Summary:\n",
      "the <UNK> <UNK> a <UNK>\n",
      "\n",
      "\n",
      "\n",
      "\n",
      "\n",
      " ----------------------------------------------------------------------------------------------------\n",
      "Actual Text:\n",
      "a century of photos showing new york city from the skies\n",
      "\n",
      "Actual Summary:\n",
      "100 years of new york city from above\n",
      "\n",
      "Created Summary:\n",
      "<UNK> <UNK>\n",
      "\n",
      "\n",
      "\n",
      "\n",
      "\n",
      " ----------------------------------------------------------------------------------------------------\n",
      "Actual Text:\n",
      "the miss universe contest turned out some <UNK> <UNK> from <UNK> participating in the show\n",
      "\n",
      "Actual Summary:\n",
      "miss universe national costume show\n",
      "\n",
      "Created Summary:\n",
      "the week in <UNK> photos\n",
      "\n",
      "\n",
      "\n",
      "\n",
      "\n",
      " ----------------------------------------------------------------------------------------------------\n",
      "Actual Text:\n",
      "over the years the super bowl ring has gotten much more <UNK>\n",
      "\n",
      "Actual Summary:\n",
      "super bowl <UNK>\n",
      "\n",
      "Created Summary:\n",
      "<UNK> <UNK>\n",
      "\n",
      "\n",
      "\n",
      "\n",
      "\n",
      " ----------------------------------------------------------------------------------------------------\n",
      "Actual Text:\n",
      "see photos of every player who has won the super bowl most valuable player award\n",
      "\n",
      "Actual Summary:\n",
      "super bowl <UNK>\n",
      "\n",
      "Created Summary:\n",
      "the week in\n",
      "\n",
      "\n",
      "\n",
      "\n",
      "\n",
      " ----------------------------------------------------------------------------------------------------\n",
      "Actual Text:\n",
      "the 90s may be over but the decade s <UNK> is still <UNK>\n",
      "\n",
      "Actual Summary:\n",
      "the 90s <UNK> a decade\n",
      "\n",
      "Created Summary:\n",
      "the a <UNK> <UNK> amazing\n",
      "\n",
      "\n",
      "\n",
      "\n",
      "\n",
      " ----------------------------------------------------------------------------------------------------\n",
      "Actual Text:\n",
      "celebrities arrive in los angeles for the screen actors <UNK> awards on sunday january 25\n",
      "\n",
      "Actual Summary:\n",
      "2015 <UNK> awards red carpet\n",
      "\n",
      "Created Summary:\n",
      "the week in <UNK> photos\n",
      "\n",
      "\n",
      "\n",
      "\n",
      "\n",
      " ----------------------------------------------------------------------------------------------------\n",
      "Actual Text:\n",
      "a <UNK> new england looks to <UNK> after a massive winter storm\n",
      "\n",
      "Actual Summary:\n",
      "massive storm <UNK> northeast\n",
      "\n",
      "Created Summary:\n",
      "<UNK> <UNK>\n",
      "\n",
      "\n",
      "\n",
      "\n",
      "\n",
      " ----------------------------------------------------------------------------------------------------\n",
      "Actual Text:\n",
      "see photos of celebrities who have come out over the years\n",
      "\n",
      "Actual Summary:\n",
      "coming out in hollywood\n",
      "\n",
      "Created Summary:\n",
      "<UNK> <UNK>\n",
      "\n",
      "\n",
      "\n",
      "\n",
      "\n",
      " ----------------------------------------------------------------------------------------------------\n",
      "Actual Text:\n",
      "a transasia plane carrying <UNK> people hit a bridge in taiwan s capital <UNK> before <UNK> into a river\n",
      "\n",
      "Actual Summary:\n",
      "transasia plane crashes into river in taiwan\n",
      "\n",
      "Created Summary:\n",
      "transasia plane crashes into river river taiwan\n",
      "\n",
      "\n",
      "\n",
      "\n",
      "\n",
      " ----------------------------------------------------------------------------------------------------\n",
      "Actual Text:\n",
      "it has been <UNK> years since queen elizabeth ii the <UNK> in british history <UNK> to the <UNK> see her life in photos\n",
      "\n",
      "Actual Summary:\n",
      "the life of queen elizabeth ii\n",
      "\n",
      "Created Summary:\n",
      "the life of queen elizabeth ii\n",
      "\n",
      "\n",
      "\n",
      "\n",
      "\n",
      " ----------------------------------------------------------------------------------------------------\n",
      "Actual Text:\n",
      "<UNK> and celebrities arrive at the <UNK> annual <UNK> awards on sunday february 8\n",
      "\n",
      "Actual Summary:\n",
      "2015 <UNK> red carpet\n",
      "\n",
      "Created Summary:\n",
      "what a shot\n",
      "\n",
      "\n",
      "\n",
      "\n",
      "\n",
      " ----------------------------------------------------------------------------------------------------\n",
      "Actual Text:\n",
      "see every man who has been the country s <UNK> in chief\n",
      "\n",
      "Actual Summary:\n",
      "<UNK> of the united states\n",
      "\n",
      "Created Summary:\n",
      "<UNK> <UNK>\n",
      "\n",
      "\n",
      "\n",
      "\n",
      "\n",
      " ----------------------------------------------------------------------------------------------------\n",
      "Actual Text:\n",
      "new photographs released by north korea s central news agency <UNK> appear to show its leader observing a <UNK> building project from a private luxury jet\n",
      "\n",
      "Actual Summary:\n",
      "photos <UNK> kim jong un s private jet\n",
      "\n",
      "Created Summary:\n",
      "<UNK> <UNK> kim jong un in private jet\n",
      "\n",
      "\n",
      "\n",
      "\n",
      "\n",
      " ----------------------------------------------------------------------------------------------------\n",
      "Actual Text:\n",
      "view pictures of celebrity mugshots to see which stars have gotten in trouble with the law\n",
      "\n",
      "Actual Summary:\n",
      "celebrity mugshots\n",
      "\n",
      "Created Summary:\n",
      "the s\n",
      "\n",
      "\n",
      "\n",
      "\n",
      "\n",
      " ----------------------------------------------------------------------------------------------------\n",
      "Actual Text:\n",
      "when nasa s dawn <UNK> <UNK> at its <UNK> on the <UNK> <UNK> on march 6 it will become the first probe to <UNK> a dwarf planet\n",
      "\n",
      "Actual Summary:\n",
      "dawn mission makes final <UNK> to dwarf planet\n",
      "\n",
      "Created Summary:\n",
      "dawn mission makes final <UNK> to dwarf planet\n",
      "\n",
      "\n",
      "\n",
      "\n",
      "\n",
      " ----------------------------------------------------------------------------------------------------\n",
      "Actual Text:\n",
      "this winter has been <UNK> on the northeast and boston has set a record for <UNK>\n",
      "\n",
      "Actual Summary:\n",
      "winter <UNK> <UNK> new england\n",
      "\n",
      "Created Summary:\n",
      "the s in <UNK>\n",
      "\n",
      "\n"
     ]
    }
   ],
   "source": [
    "# show results\n",
    "summarizer_model_utils.sample_results(preds,\n",
    "                                      ind2word,\n",
    "                                      word2ind,\n",
    "                                      converted_summaries[:50],\n",
    "                                      converted_texts[:50])"
   ]
  },
  {
   "cell_type": "markdown",
   "metadata": {
    "colab": {
     "autoexec": {
      "startup": false,
      "wait_interval": 0
     }
    },
    "colab_type": "code",
    "id": "pdhvrPQ1MRzK"
   },
   "source": [
    "# Conclusion\n",
    "\n",
    "Generally I am really impressed by how well the model works. \n",
    "We only used a limited amount of data, trained it for a limited amount of time and used nearly random hyperparameters and it still delivers good results. \n",
    "\n",
    "However, we are clearly overfitting the training data and the model does not perfectly generalize.\n",
    "Sometimes the summaries the model creates are good, sometimes bad, sometimes they are better than the original ones and sometimes they are just really funny.\n",
    "\n",
    "\n",
    "Therefore it would be really interesting to scale it up and see how it performs. \n",
    "\n",
    "To sum up, I am impressed by seq2seq models, they perform great on many different tasks and I look foward to exploring more possible applications. \n",
    "(speech recognition...)"
   ]
  }
 ],
 "metadata": {
  "accelerator": "GPU",
  "colab": {
   "collapsed_sections": [],
   "default_view": {},
   "name": "summarizer_headlines.ipynb",
   "provenance": [],
   "version": "0.3.2",
   "views": {}
  },
  "kernelspec": {
   "display_name": "Python 3",
   "language": "python",
   "name": "python3"
  },
  "language_info": {
   "codemirror_mode": {
    "name": "ipython",
    "version": 3
   },
   "file_extension": ".py",
   "mimetype": "text/x-python",
   "name": "python",
   "nbconvert_exporter": "python",
   "pygments_lexer": "ipython3",
   "version": "3.6.3"
  }
 },
 "nbformat": 4,
 "nbformat_minor": 1
}
